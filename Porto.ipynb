# PortofolioProjek
#File ini sebagai portofolio pendukung CV
peta=[[1,2,3,4],[5,6,7,8]]
row=2
col=4
peta_ext = [[0 for i in range(col+2)] for i in range(row+2)]
for i in range(1, row+1):
  for j in range(1, col+1):
    peta_ext[i][j] = peta[i-1][j-1]
print(peta_ext)
