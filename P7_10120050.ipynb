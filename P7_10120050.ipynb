{
  "nbformat": 4,
  "nbformat_minor": 0,
  "metadata": {
    "colab": {
      "name": "P7_10120050.ipynb",
      "provenance": [],
      "collapsed_sections": []
    },
    "kernelspec": {
      "name": "python3",
      "display_name": "Python 3"
    },
    "language_info": {
      "name": "python"
    }
  },
  "cells": [
    {
      "cell_type": "markdown",
      "metadata": {
        "id": "27GJn8MiCs0z"
      },
      "source": [
        "# **Praktikum 7 MA2151 Simulasi dan Komputasi Matematika**\n",
        "\n",
        "**Petunjuk pengerjaan**: \n",
        "1. Setelah mengunduh soal ini di LMS, anda dapat menuliskan jawaban langsung di notebook ini menggunakan Google Colab atau Jupyter Notebook.\n",
        "2. Isi Nama dan NIM anda pada sel di bawah ini sebelum mengerjakan soal. Perhatikan petunjuk soal dengan cermat dan teliti.\n",
        "3. Pastikan anda telah melakukan **restart runtime** sebelum mengumpulkan notebook. Pastikan file berekstensi .ipynb dengan format penamaan 'P7_NIM.ipynb' (contoh: P7_10118045.ipynb).\n",
        "4. Untuk penggunaan package, perhatikan instruksi pada setiap butir soal. Secara umum, gunakan numpy dan matplotlib untuk menggambar grafik.\n"
      ]
    },
    {
      "cell_type": "markdown",
      "metadata": {
        "id": "VYp5o-IW3qpU"
      },
      "source": [
        "**IMPORTANT** \\\\\n",
        "Di setiap program yang memerlukan package `random`, seed pembangkit tidak perlu digunakan, sehingga hasil setiap run program bisa berbeda. Manfaatkan kejadian ini untuk mengecek jawaban anda."
      ]
    },
    {
      "cell_type": "markdown",
      "metadata": {
        "id": "Z47GjwDK-GUP"
      },
      "source": [
        "**Nama Lengkap:** Yovan Aurelius Darmawan Phang\n",
        "\n",
        "**NIM:** 10120050\n",
        "\n",
        "*Selamat mengerjakan!*"
      ]
    },
    {
      "cell_type": "code",
      "metadata": {
        "id": "2ZEATI5EcEIP"
      },
      "source": [
        "import numpy as np\n",
        "import matplotlib.pyplot as plt"
      ],
      "execution_count": null,
      "outputs": []
    },
    {
      "cell_type": "markdown",
      "metadata": {
        "id": "54ldQ1tPABlA"
      },
      "source": [
        "#1. Soal Tanpa Pop Culture :(\n",
        "Buatlah sebuah algoritma yang menampilkan bilangan secara acak pada layar dengan ketentuan sebagai berikut :  \n",
        "$$\n",
        "1.7 \\leq x \\leq 2.5\n",
        "$$"
      ]
    },
    {
      "cell_type": "code",
      "metadata": {
        "id": "cgrrkPXbF6OC",
        "colab": {
          "base_uri": "https://localhost:8080/"
        },
        "outputId": "1dcc89d1-7a37-4d6d-eea1-3771822bb7a8"
      },
      "source": [
        "import random\n",
        "n = random.uniform(1.7, 2.5)\n",
        "print(n)"
      ],
      "execution_count": 3,
      "outputs": [
        {
          "output_type": "stream",
          "name": "stdout",
          "text": [
            "2.433588494881528\n"
          ]
        }
      ]
    },
    {
      "cell_type": "markdown",
      "metadata": {
        "id": "WV6fgYhCA3oY"
      },
      "source": [
        "#2. Permainan Cumi-Cumi\n",
        "\n",
        "Ya kamu tahu aku tahu dan kita semua tahu. Belakangan ini, kita sering mendengar suatu rangkaian permainan yang disebut 'Permainan Cumi-Cumi'. Di salah satu permainan yang harus dilewati oleh peserta, mereka diharuskan untuk melompat dari suatu tempat ke tempat lainnya. Hanya saja, ada peluang 50:50 orang tersebut dapat terjatuh ketika melakukan lompatan.  \n",
        "\n",
        "Misal panjang lintasan yang perlu peserta lewati adalah sebanyak 10 langkah (lompatan). Buatlah simulasi langkah peserta untuk menghitung berapa banyak kemungkinan peserta tersebut jatuh ketika ia melewati lintasan tersebut."
      ]
    },
    {
      "cell_type": "code",
      "metadata": {
        "id": "PSS2ArTCF8kY",
        "colab": {
          "base_uri": "https://localhost:8080/",
          "height": 439
        },
        "outputId": "93615bea-f761-4a9d-f7e8-be46e4c8511b"
      },
      "source": [
        "import random\n",
        "import matplotlib.pyplot as plt\n",
        "\n",
        "kemungkinan = []\n",
        "langkah = [1,2,3,4,5,6,7,8,9,10 ]\n",
        "\n",
        "for i in range(10):\n",
        "  bilanganacak = random.randint(3,4)\n",
        "  #Asumsikan nilai 3 berarti jatuh dan nilai 4 berarti lewat\n",
        "\n",
        "  if bilanganacak == 3:\n",
        "    print(\"Anda Jatuh\")\n",
        "    kemungkinan.append(0)\n",
        "  elif bilanganacak == 4:\n",
        "    print(f\"Lolos di langkah ke {i+1}\")\n",
        "    kemungkinan.append(1)\n",
        "\n",
        "plt.scatter(langkah,kemungkinan)\n",
        "plt.show()"
      ],
      "execution_count": 14,
      "outputs": [
        {
          "output_type": "stream",
          "name": "stdout",
          "text": [
            "Lolos di langkah ke 1\n",
            "Lolos di langkah ke 2\n",
            "Anda Jatuh\n",
            "Lolos di langkah ke 4\n",
            "Lolos di langkah ke 5\n",
            "Anda Jatuh\n",
            "Anda Jatuh\n",
            "Lolos di langkah ke 8\n",
            "Anda Jatuh\n",
            "Lolos di langkah ke 10\n"
          ]
        },
        {
          "output_type": "display_data",
          "data": {
            "image/png": "[encoded data removed]",
            "text/plain": [
              "<Figure size 432x288 with 1 Axes>"
            ]
          },
          "metadata": {
            "needs_background": "light"
          }
        }
      ]
    },
    {
      "cell_type": "markdown",
      "metadata": {
        "id": "McCG4TnV9Iwn"
      },
      "source": [
        "#3. WHAT DOES A HERO TRULY NEED ?\n",
        "Tentu saja karna yang membuat soal suka bermain Dota2 maka soalnya akan menyangkut Dota2. Tapi bukan dalam segi permainannya, melainkan dalam segi Match Making Rating/MMR (bagi yang tidak memainkan Dota2, anggap saja MMR sebagai 'skor bermain' anda). \n",
        "\n",
        "Alkisah, dulunya 1 kali menang dalam Ranked Match akan menaikkan MMR sebesar +25 dan jika kalah akan menurunkan MMR sebesar -25. Misalkan dalam sehari seseorang bermain ranked match sebanyak 10 kali secara rutin dan mempunyai MMR sebesar 2000 (Bukan MMR pembuat soal :D). \n",
        "\n",
        "Tentukanlah berapa hari yang dibutuhkan agar MMR orang tersebut menjadi sebesar 10.000 jika peluang kemenangannya mengikuti fungsi :  \n",
        "$$\n",
        "p(x) = 1- |\\cos(x)|\\sin^2(x)\n",
        "$$\n",
        "dengan $x$ adalah MMR saat itu (berubah-ubah setiap waku). "
      ]
    },
    {
      "cell_type": "code",
      "metadata": {
        "id": "dn25BhlPGDv8",
        "colab": {
          "base_uri": "https://localhost:8080/"
        },
        "outputId": "c05f4808-a645-4a61-90b5-e77dea9a79f7"
      },
      "source": [
        "import random\n",
        "import numpy as np\n",
        "\n",
        "MMR=2000 #nilai MMR awal\n",
        "banyak=0 #banyaknya ranked match yg diikuti\n",
        "while MMR<10000: #perulangan sampai MMR mencapai 10000\n",
        "  bilangan = np.random.uniform(0,1) #memilih bilangan acak antara 0 dan 1\n",
        "  peluang = 1 - abs(np.cos(bilangan))*(np.sin(bilangan))**2  #menghitung peluang yang mungkin dengan menggunakan bilangan itu\n",
        "  if bilangan <= peluang: #jika bilangan acak nilainya kurang dari peluang, artinya dia menang\n",
        "    MMR+=25\n",
        "  else:\n",
        "    MMR-=25 #jika kalah\n",
        "  banyak+=1 #jumlah match bertambah 1\n",
        "print(\"MMR akan mencapai 10.000 dengan ranked match sebanyak \"+str(banyak)+\" kali atau akan tercapai dalam \"+str(round(banyak/10))+\" hari\") #output"
      ],
      "execution_count": 23,
      "outputs": [
        {
          "output_type": "stream",
          "name": "stdout",
          "text": [
            "MMR akan mencapai 10.000 dengan ranked match sebanyak 810 kali atau akan tercapai dalam 81 hari\n"
          ]
        }
      ]
    },
    {
      "cell_type": "markdown",
      "metadata": {
        "id": "mxT4CpPb88bg"
      },
      "source": [
        "#4. IT'S TIME TO D-D-D-D-D-DUEEELLLLL !!\n",
        "Tentu saja karna sedang bernostalgia tentang peluang dan simulasi, pembuat soal teringat tentang Trading Card Game yang ia gemari yakni Yu-Gi-Oh!, sebuah permainan kartu 1 lawan 1 dengan tujuan utama untuk membuat Life Point musuhnya menjadi 0.\n",
        "\n",
        "Alkisah ada suatu paket kartu yang mempunyai efek jika sedang dipegang, maka pemain yang memegang paket tersebut otomatis dapat menang. Kartu tersebut adalah Exodia. Pemain perlu mengumpulkan kepala, tangan kanan, tangan kiri, kaki kanan, dan kaki kirinya agar dapat secara mudah dapat memenangkan permainan. Hanya saja pemain dapat kalah jika Life point (LP) habis atau jika deck nya kehabisan kartu.  \n",
        "\n",
        "Misalkan peluang kemunculan kartu exodia adalah $\n",
        "\\frac{\\text{Jumlah kartu exodia yang belum ditarik}}{\\text{Jumlah kartu pada deck}}$ dengan jumlah kartu pada deck adalah 50. \n",
        "Misalkan juga perubahan Life Point player rata-rata memiliki laju sebagai berikut :  \n",
        "$$\n",
        "\\frac{dL}{dt} = 100 - 500\\sin(3t)\\exp\\left(\\frac{t}{20}\\right)\n",
        "$$\n",
        "dengan $t$ adalah 1 turn, dan $\n",
        "\\Delta t = 1$ dan $L(0) = 4000$. Pada putaran pertama, pemain dan lawannya menarik 5 kartu, yang kemudian ditambah 1 kartu setiap kali giliran pemain bermain. \\\\\n",
        "**Perhatikan bahwa $t$ dimulai dari 1 dan life points berada dalam interval $[0,\\infty)$**"
      ]
    },
    {
      "cell_type": "markdown",
      "metadata": {
        "id": "pRDVTFaQB2u8"
      },
      "source": [
        "## Butir 1 \n",
        "Misalkan pemain yang memiliki kartu Exodia hanya bisa menang dengan mengambil Exodia, dan ia tidak akan melakukan aksi apapun untuk mengurangi LP lawan. Selain itu, kartu di tangan pemain tersebut tidak bisa berkurang, sehingga kartu Exodia yang sudah didapatkan tidak bisa dibuang.\n",
        "\n",
        "Asumsikan pemain yang memiliki set Exodia maju pertama, sehingga di ronde pertama LPnya tidak berkurang. Namun, di giliran-giliran bermain berikutnya, lawan terus menyerang pemain sehingga LPnya akan berkurang dengan laju seperti pada persamaan di atas sepanjang permainan berlangsung.\n",
        "Apakah pemain yang memiliki set Exodia tersebut akan menang? Atau kalah ? Buktikan dengan simulasi !"
      ]
    },
    {
      "cell_type": "code",
      "metadata": {
        "id": "3_faOxTEF_ES",
        "colab": {
          "base_uri": "https://localhost:8080/"
        },
        "outputId": "88b87e70-71ea-4b40-e838-7e6699332d0f"
      },
      "source": [
        "import random\n",
        "import numpy as np\n",
        "\n",
        "jumlahkartudek = 50\n",
        "nyawa = 4000\n",
        "perubahanwaktu = 1\n",
        "kartuexodia = 5/50\n",
        "kartuexodiapemain = 0\n",
        "\n",
        "giliran = 0\n",
        "while True:\n",
        "  giliran +=1\n",
        "  print(f\"Turn {giliran}\")\n",
        "  jumlahkartudek += -1\n",
        "  print(f\"JUMLAH KARTU TERSISA : {jumlahkartudek}\")\n",
        "  if jumlahkartudek == 0 :\n",
        "    break\n",
        "\n",
        "  perubahannyawa = 100 - 500*np.sin(3*giliran)*np.exp(giliran/20)\n",
        "  nyawa = nyawa - perubahannyawa * perubahanwaktu\n",
        "  \n",
        "  if nyawa < 0:\n",
        "    print(f\"Sisa LP : {nyawa} \")\n",
        "    print(\"-----YOU LOSE !-----\")\n",
        "    break\n",
        "  else:\n",
        "    print(f\"Sisa LP : {nyawa}\")\n",
        "\n",
        "  print(\"-----------------------\")\n",
        "  bilanganacak=np.random.uniform(0,1)\n",
        "  if bilanganacak <= kartuexodia:\n",
        "    kartuexodiapemain += 1\n",
        "    print(f\"Jumlah kartu exodia yang dipegang pemain : {kartuexodiapemain}\")\n",
        "  if kartuexodiapemain == 5:\n",
        "    print(\"Kamu Menang\")\n",
        "    break"
      ],
      "execution_count": 40,
      "outputs": [
        {
          "output_type": "stream",
          "name": "stdout",
          "text": [
            "Turn 1\n",
            "JUMLAH KARTU TERSISA : 49\n",
            "Sisa LP : 3974.177692796845\n",
            "-----------------------\n",
            "Jumlah kartu exodia yang dipegang pemain : 1\n",
            "Turn 2\n",
            "JUMLAH KARTU TERSISA : 48\n",
            "Sisa LP : 3719.776751462309\n",
            "-----------------------\n",
            "Turn 3\n",
            "JUMLAH KARTU TERSISA : 47\n",
            "Sisa LP : 3859.183435569901\n",
            "-----------------------\n",
            "Jumlah kartu exodia yang dipegang pemain : 2\n",
            "Turn 4\n",
            "JUMLAH KARTU TERSISA : 46\n",
            "Sisa LP : 3431.4976145700102\n",
            "-----------------------\n",
            "Jumlah kartu exodia yang dipegang pemain : 3\n",
            "Turn 5\n",
            "JUMLAH KARTU TERSISA : 45\n",
            "Sisa LP : 3748.990672032367\n",
            "-----------------------\n",
            "Turn 6\n",
            "JUMLAH KARTU TERSISA : 44\n",
            "Sisa LP : 3142.127297316367\n",
            "-----------------------\n",
            "Turn 7\n",
            "JUMLAH KARTU TERSISA : 43\n",
            "Sisa LP : 3635.7627303134104\n",
            "-----------------------\n",
            "Turn 8\n",
            "JUMLAH KARTU TERSISA : 42\n",
            "Sisa LP : 2860.2806472679063\n",
            "-----------------------\n",
            "Jumlah kartu exodia yang dipegang pemain : 4\n",
            "Turn 9\n",
            "JUMLAH KARTU TERSISA : 41\n",
            "Sisa LP : 3510.228658481034\n",
            "-----------------------\n",
            "Turn 10\n",
            "JUMLAH KARTU TERSISA : 40\n",
            "Sisa LP : 2595.7342810978867\n",
            "-----------------------\n",
            "Turn 11\n",
            "JUMLAH KARTU TERSISA : 39\n",
            "Sisa LP : 3362.2844056640474\n",
            "-----------------------\n",
            "Turn 12\n",
            "JUMLAH KARTU TERSISA : 38\n",
            "Sisa LP : 2358.714958319825\n",
            "-----------------------\n",
            "Jumlah kartu exodia yang dipegang pemain : 5\n",
            "Kamu Menang\n"
          ]
        }
      ]
    },
    {
      "cell_type": "markdown",
      "metadata": {
        "id": "Nr-gtnTA0SW_"
      },
      "source": [
        "## Butir 2 \n",
        "Misal kedua pemain menggunakan strategi yang sama (memiliki deck yang berisi exodia) dengan jumlah kartu pada deck adalah 55. Kali ini, kedua pemain akan menyerang satu sama lain. Diketahui laju pengurangan LP pemain pertama seperti pada persamaan di Butir 1, sedangkan laju pengurangan life point pemain kedua adalah sebagai berikut \n",
        "$$\n",
        "\\frac{dL}{dt} = 100 - 500\\cos(3t)\\exp\\left(\\frac{t}{15}\\right).\n",
        "$$\n",
        "Pengurangan masing-masing Life Point dihitung ketika pemain berikutnya menarik kartu. \\\\\n",
        "Hitunglah pada putaran keberapa salah satu pemain akan menang jika pada putaran pertama kedua pemain menarik 5 kartu dari deck dan setiap pemain akan menarik 1 kartu di setiap gilirannya bermain. Peluang pemain pertama mendapat giliran pertama adalah 0.5.  "
      ]
    },
    {
      "cell_type": "code",
      "metadata": {
        "id": "4w_X6yUyGCHB"
      },
      "source": [
        "jumlahkartudek = 55\n",
        "nyawap1 = 4000\n",
        "nyawap2 = 4000\n",
        "perubahanwaktu = 1\n",
        "kartuexodia = 5/55\n",
        "kartuexodiapemain1 = 0\n",
        "kartuexodiapemain2 = 0\n",
        "giliran = 0\n",
        "\n",
        "while True:\n",
        "  giliran +=1\n",
        "  print(f\"Turn {giliran}\")\n",
        "  jumlahkartudek += -1\n",
        "  print(f\"JUMLAH KARTU TERSISA : {jumlahkartudek}\")\n",
        "\n",
        "  perubahannyawap1 = 100 - 500*np.sin(3*giliran)*np.exp(giliran/20)\n",
        "  nyawap1 = nyawap1 - perubahannyawap1 * perubahanwaktu\n",
        "  perubahannyawap2 = 100 - 500*np.cos(3*giliran)*np.exp(giliran/15)\n",
        "  nyawap2 = nyawap2 - perubahannyawap2 * perubahanwaktu\n",
        "\n",
        "  if nyawap1 < 0:\n",
        "    print(\"Sisa LP Player 1 : 0\")\n",
        "    print(\"-----Player 1 LOSE !-----\")\n",
        "    break\n",
        "  else:\n",
        "    print(f\"Sisa LP Player 1 : {nyawap1}\")\n",
        "\n",
        "  if nyawap2 < 0:\n",
        "    print(\"Sisa LP Player 2 : 0\")\n",
        "    print(\"-----Player 2 LOSE !-----\")\n",
        "    break\n",
        "  else:\n",
        "    print(f\"Sisa LP Player 2 : {nyawap2}\")\n",
        "\n",
        "  randomval_P1=np.random.uniform(0,1)\n",
        "  if randomval_P1 <= kartuexodia:\n",
        "    kartuexodiapemain1 +=1\n",
        "\n",
        "  randomval_P2=np.random.uniform(0,1)\n",
        "  if randomval_P2 <= kartuexodia:\n",
        "    kartuexodiapemain2 +=1\n",
        "\n",
        "  print(f\"Jumlah kartu Exodia : {kartuexodiapemain1} \" )\n",
        "  print(f\"Jumlah kartu Exodia : {kartuexodiapemain2} \" )\n",
        "  print(\"-----------------------\")\n",
        "\n",
        "  if exodia_player_1 == 5:\n",
        "    print(\"Player 1 Menang\")\n",
        "    break\n",
        "  if exodia_player_2 == 5:\n",
        "    print(\"Player 2 Menang\")\n",
        "    break"
      ],
      "execution_count": null,
      "outputs": []
    }
  ]
}